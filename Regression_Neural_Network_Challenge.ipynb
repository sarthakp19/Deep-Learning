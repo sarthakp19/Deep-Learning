{
  "nbformat": 4,
  "nbformat_minor": 0,
  "metadata": {
    "colab": {
      "name": "Regression-Neural-Network-Challenge.ipynb",
      "provenance": [],
      "collapsed_sections": []
    },
    "kernelspec": {
      "name": "python3",
      "display_name": "Python 3"
    },
    "language_info": {
      "name": "python"
    }
  },
  "cells": [
    {
      "cell_type": "markdown",
      "source": [
        "# Deep Learning Regression with Admissions Data\n",
        "\n",
        "For this project, we will create a deep learning regression model that predicts the likelihood that a student applying to graduate school will be accepted based on various application factors (such as test scores).\n",
        "\n",
        "By analyzing the parameters in this graduate admissions dataset, we will use TensorFlow with Keras to create a regression model that can evaluate the chances of an applicant being admitted. "
      ],
      "metadata": {
        "id": "FjoVIkF55mmY"
      }
    },
    {
      "cell_type": "code",
      "execution_count": 3,
      "metadata": {
        "id": "FHijpDYuTEEH"
      },
      "outputs": [],
      "source": [
        "import pandas as pd\n",
        "import numpy as np\n",
        "import tensorflow as tf\n",
        "from tensorflow\timport keras\n",
        "from sklearn.model_selection import train_test_split\n",
        "from sklearn.compose import ColumnTransformer\n",
        "from sklearn.preprocessing import StandardScaler\n",
        "from sklearn.metrics import r2_score\n",
        "from sklearn.preprocessing import Normalizer\n",
        "from tensorflow.keras.models import Sequential\n",
        "from tensorflow.keras.callbacks import EarlyStopping\n",
        "from tensorflow.keras import layers\n",
        "from tensorflow.keras.optimizers import Adam\n",
        "from tensorflow.keras.optimizers import SGD\n",
        "\n",
        "\n",
        "import matplotlib.pyplot as plt"
      ]
    },
    {
      "cell_type": "code",
      "source": [
        "df = pd.read_csv('admissions_data.csv')\n",
        "df.head()"
      ],
      "metadata": {
        "id": "4YHoIuYhUuZy",
        "colab": {
          "base_uri": "https://localhost:8080/",
          "height": 206
        },
        "outputId": "9571eb07-839b-4bca-e998-237066037d57"
      },
      "execution_count": 4,
      "outputs": [
        {
          "output_type": "execute_result",
          "data": {
            "text/html": [
              "\n",
              "  <div id=\"df-0b90a6dc-6f98-4f15-8d4f-7b44fc4b426d\">\n",
              "    <div class=\"colab-df-container\">\n",
              "      <div>\n",
              "<style scoped>\n",
              "    .dataframe tbody tr th:only-of-type {\n",
              "        vertical-align: middle;\n",
              "    }\n",
              "\n",
              "    .dataframe tbody tr th {\n",
              "        vertical-align: top;\n",
              "    }\n",
              "\n",
              "    .dataframe thead th {\n",
              "        text-align: right;\n",
              "    }\n",
              "</style>\n",
              "<table border=\"1\" class=\"dataframe\">\n",
              "  <thead>\n",
              "    <tr style=\"text-align: right;\">\n",
              "      <th></th>\n",
              "      <th>Serial No.</th>\n",
              "      <th>GRE Score</th>\n",
              "      <th>TOEFL Score</th>\n",
              "      <th>University Rating</th>\n",
              "      <th>SOP</th>\n",
              "      <th>LOR</th>\n",
              "      <th>CGPA</th>\n",
              "      <th>Research</th>\n",
              "      <th>Chance of Admit</th>\n",
              "    </tr>\n",
              "  </thead>\n",
              "  <tbody>\n",
              "    <tr>\n",
              "      <th>0</th>\n",
              "      <td>1</td>\n",
              "      <td>337</td>\n",
              "      <td>118</td>\n",
              "      <td>4</td>\n",
              "      <td>4.5</td>\n",
              "      <td>4.5</td>\n",
              "      <td>9.65</td>\n",
              "      <td>1</td>\n",
              "      <td>0.92</td>\n",
              "    </tr>\n",
              "    <tr>\n",
              "      <th>1</th>\n",
              "      <td>2</td>\n",
              "      <td>324</td>\n",
              "      <td>107</td>\n",
              "      <td>4</td>\n",
              "      <td>4.0</td>\n",
              "      <td>4.5</td>\n",
              "      <td>8.87</td>\n",
              "      <td>1</td>\n",
              "      <td>0.76</td>\n",
              "    </tr>\n",
              "    <tr>\n",
              "      <th>2</th>\n",
              "      <td>3</td>\n",
              "      <td>316</td>\n",
              "      <td>104</td>\n",
              "      <td>3</td>\n",
              "      <td>3.0</td>\n",
              "      <td>3.5</td>\n",
              "      <td>8.00</td>\n",
              "      <td>1</td>\n",
              "      <td>0.72</td>\n",
              "    </tr>\n",
              "    <tr>\n",
              "      <th>3</th>\n",
              "      <td>4</td>\n",
              "      <td>322</td>\n",
              "      <td>110</td>\n",
              "      <td>3</td>\n",
              "      <td>3.5</td>\n",
              "      <td>2.5</td>\n",
              "      <td>8.67</td>\n",
              "      <td>1</td>\n",
              "      <td>0.80</td>\n",
              "    </tr>\n",
              "    <tr>\n",
              "      <th>4</th>\n",
              "      <td>5</td>\n",
              "      <td>314</td>\n",
              "      <td>103</td>\n",
              "      <td>2</td>\n",
              "      <td>2.0</td>\n",
              "      <td>3.0</td>\n",
              "      <td>8.21</td>\n",
              "      <td>0</td>\n",
              "      <td>0.65</td>\n",
              "    </tr>\n",
              "  </tbody>\n",
              "</table>\n",
              "</div>\n",
              "      <button class=\"colab-df-convert\" onclick=\"convertToInteractive('df-0b90a6dc-6f98-4f15-8d4f-7b44fc4b426d')\"\n",
              "              title=\"Convert this dataframe to an interactive table.\"\n",
              "              style=\"display:none;\">\n",
              "        \n",
              "  <svg xmlns=\"http://www.w3.org/2000/svg\" height=\"24px\"viewBox=\"0 0 24 24\"\n",
              "       width=\"24px\">\n",
              "    <path d=\"M0 0h24v24H0V0z\" fill=\"none\"/>\n",
              "    <path d=\"M18.56 5.44l.94 2.06.94-2.06 2.06-.94-2.06-.94-.94-2.06-.94 2.06-2.06.94zm-11 1L8.5 8.5l.94-2.06 2.06-.94-2.06-.94L8.5 2.5l-.94 2.06-2.06.94zm10 10l.94 2.06.94-2.06 2.06-.94-2.06-.94-.94-2.06-.94 2.06-2.06.94z\"/><path d=\"M17.41 7.96l-1.37-1.37c-.4-.4-.92-.59-1.43-.59-.52 0-1.04.2-1.43.59L10.3 9.45l-7.72 7.72c-.78.78-.78 2.05 0 2.83L4 21.41c.39.39.9.59 1.41.59.51 0 1.02-.2 1.41-.59l7.78-7.78 2.81-2.81c.8-.78.8-2.07 0-2.86zM5.41 20L4 18.59l7.72-7.72 1.47 1.35L5.41 20z\"/>\n",
              "  </svg>\n",
              "      </button>\n",
              "      \n",
              "  <style>\n",
              "    .colab-df-container {\n",
              "      display:flex;\n",
              "      flex-wrap:wrap;\n",
              "      gap: 12px;\n",
              "    }\n",
              "\n",
              "    .colab-df-convert {\n",
              "      background-color: #E8F0FE;\n",
              "      border: none;\n",
              "      border-radius: 50%;\n",
              "      cursor: pointer;\n",
              "      display: none;\n",
              "      fill: #1967D2;\n",
              "      height: 32px;\n",
              "      padding: 0 0 0 0;\n",
              "      width: 32px;\n",
              "    }\n",
              "\n",
              "    .colab-df-convert:hover {\n",
              "      background-color: #E2EBFA;\n",
              "      box-shadow: 0px 1px 2px rgba(60, 64, 67, 0.3), 0px 1px 3px 1px rgba(60, 64, 67, 0.15);\n",
              "      fill: #174EA6;\n",
              "    }\n",
              "\n",
              "    [theme=dark] .colab-df-convert {\n",
              "      background-color: #3B4455;\n",
              "      fill: #D2E3FC;\n",
              "    }\n",
              "\n",
              "    [theme=dark] .colab-df-convert:hover {\n",
              "      background-color: #434B5C;\n",
              "      box-shadow: 0px 1px 3px 1px rgba(0, 0, 0, 0.15);\n",
              "      filter: drop-shadow(0px 1px 2px rgba(0, 0, 0, 0.3));\n",
              "      fill: #FFFFFF;\n",
              "    }\n",
              "  </style>\n",
              "\n",
              "      <script>\n",
              "        const buttonEl =\n",
              "          document.querySelector('#df-0b90a6dc-6f98-4f15-8d4f-7b44fc4b426d button.colab-df-convert');\n",
              "        buttonEl.style.display =\n",
              "          google.colab.kernel.accessAllowed ? 'block' : 'none';\n",
              "\n",
              "        async function convertToInteractive(key) {\n",
              "          const element = document.querySelector('#df-0b90a6dc-6f98-4f15-8d4f-7b44fc4b426d');\n",
              "          const dataTable =\n",
              "            await google.colab.kernel.invokeFunction('convertToInteractive',\n",
              "                                                     [key], {});\n",
              "          if (!dataTable) return;\n",
              "\n",
              "          const docLinkHtml = 'Like what you see? Visit the ' +\n",
              "            '<a target=\"_blank\" href=https://colab.research.google.com/notebooks/data_table.ipynb>data table notebook</a>'\n",
              "            + ' to learn more about interactive tables.';\n",
              "          element.innerHTML = '';\n",
              "          dataTable['output_type'] = 'display_data';\n",
              "          await google.colab.output.renderOutput(dataTable, element);\n",
              "          const docLink = document.createElement('div');\n",
              "          docLink.innerHTML = docLinkHtml;\n",
              "          element.appendChild(docLink);\n",
              "        }\n",
              "      </script>\n",
              "    </div>\n",
              "  </div>\n",
              "  "
            ],
            "text/plain": [
              "   Serial No.  GRE Score  TOEFL Score  ...  CGPA  Research  Chance of Admit \n",
              "0           1        337          118  ...  9.65         1              0.92\n",
              "1           2        324          107  ...  8.87         1              0.76\n",
              "2           3        316          104  ...  8.00         1              0.72\n",
              "3           4        322          110  ...  8.67         1              0.80\n",
              "4           5        314          103  ...  8.21         0              0.65\n",
              "\n",
              "[5 rows x 9 columns]"
            ]
          },
          "metadata": {},
          "execution_count": 4
        }
      ]
    },
    {
      "cell_type": "markdown",
      "source": [
        "# Data Preprocessing"
      ],
      "metadata": {
        "id": "2S5XBJpP5-Em"
      }
    },
    {
      "cell_type": "code",
      "source": [
        "df = df.drop(['Serial No.'],axis =1)"
      ],
      "metadata": {
        "id": "w0QtSAQxWhBY"
      },
      "execution_count": 5,
      "outputs": []
    },
    {
      "cell_type": "code",
      "source": [
        "features = df.iloc[:,0:-1]"
      ],
      "metadata": {
        "id": "eVbztbKdWzhl"
      },
      "execution_count": 6,
      "outputs": []
    },
    {
      "cell_type": "code",
      "source": [
        "labels = df.iloc[:,-1]"
      ],
      "metadata": {
        "id": "HR748WAoW9v3"
      },
      "execution_count": 7,
      "outputs": []
    },
    {
      "cell_type": "code",
      "source": [
        "features_train,features_test,labels_train,labels_test = train_test_split(features,labels,test_size=0.25,random_state=42)"
      ],
      "metadata": {
        "id": "72R0IYQ4XBcY"
      },
      "execution_count": 8,
      "outputs": []
    },
    {
      "cell_type": "code",
      "source": [
        "ct = ColumnTransformer([('scale',StandardScaler(),features.columns)])"
      ],
      "metadata": {
        "id": "noET8iLLXgdQ"
      },
      "execution_count": 9,
      "outputs": []
    },
    {
      "cell_type": "code",
      "source": [
        "features_train_scaled =ct.fit_transform(features_train)\n",
        "features_test_scaled = ct.transform(features_test)\n"
      ],
      "metadata": {
        "id": "N64wqkn8YFYB"
      },
      "execution_count": 10,
      "outputs": []
    },
    {
      "cell_type": "markdown",
      "source": [
        "# Building The Model"
      ],
      "metadata": {
        "id": "6TnntuUT6MQK"
      }
    },
    {
      "cell_type": "code",
      "source": [
        "model = Sequential()\n",
        "input = layers.InputLayer(input_shape=(features.shape[1],))\n",
        "model.add(input)\n",
        "# model.add(layers.Dense(64,activation='relu'))\n",
        "# model.add(layers.Dropout(0.1))\n",
        "hidden_layer = layers.Dense(16, activation='relu')\n",
        "model.add(hidden_layer)\n",
        "model.add(layers.Dropout(0.1))\n",
        "hidden_layer_2 = layers.Dense(8, activation='relu')\n",
        "model.add(hidden_layer_2)\n",
        "model.add(layers.Dropout(0.2))\n",
        "model.add(layers.Dense(1))\n",
        "\n",
        "\n",
        "model.add(layers.Dense(1))\n",
        "opt = Adam(learning_rate=0.005)\n",
        "stop = EarlyStopping(monitor='val_loss',mode='min',verbose=1,patience=20)\n",
        "model.compile(loss='mse',metrics=['mae'],optimizer=opt)\n",
        "\n",
        "history = model.fit(features_train_scaled,labels_train,epochs=100,batch_size=8,verbose=1,validation_split=0.25,callbacks=[stop])"
      ],
      "metadata": {
        "colab": {
          "base_uri": "https://localhost:8080/"
        },
        "id": "5RBuVW_WYU0z",
        "outputId": "b43bfe65-f4c8-4bdb-c77c-8fffa8bf409f"
      },
      "execution_count": 11,
      "outputs": [
        {
          "output_type": "stream",
          "name": "stdout",
          "text": [
            "Epoch 1/100\n",
            "36/36 [==============================] - 1s 8ms/step - loss: 0.2075 - mae: 0.3678 - val_loss: 0.0352 - val_mae: 0.1568\n",
            "Epoch 2/100\n",
            "36/36 [==============================] - 0s 3ms/step - loss: 0.0512 - mae: 0.1882 - val_loss: 0.0165 - val_mae: 0.1071\n",
            "Epoch 3/100\n",
            "36/36 [==============================] - 0s 3ms/step - loss: 0.0303 - mae: 0.1385 - val_loss: 0.0086 - val_mae: 0.0759\n",
            "Epoch 4/100\n",
            "36/36 [==============================] - 0s 3ms/step - loss: 0.0203 - mae: 0.1121 - val_loss: 0.0097 - val_mae: 0.0842\n",
            "Epoch 5/100\n",
            "36/36 [==============================] - 0s 3ms/step - loss: 0.0146 - mae: 0.0984 - val_loss: 0.0071 - val_mae: 0.0668\n",
            "Epoch 6/100\n",
            "36/36 [==============================] - 0s 3ms/step - loss: 0.0129 - mae: 0.0900 - val_loss: 0.0068 - val_mae: 0.0661\n",
            "Epoch 7/100\n",
            "36/36 [==============================] - 0s 3ms/step - loss: 0.0120 - mae: 0.0854 - val_loss: 0.0060 - val_mae: 0.0577\n",
            "Epoch 8/100\n",
            "36/36 [==============================] - 0s 3ms/step - loss: 0.0110 - mae: 0.0815 - val_loss: 0.0074 - val_mae: 0.0699\n",
            "Epoch 9/100\n",
            "36/36 [==============================] - 0s 3ms/step - loss: 0.0110 - mae: 0.0808 - val_loss: 0.0064 - val_mae: 0.0634\n",
            "Epoch 10/100\n",
            "36/36 [==============================] - 0s 3ms/step - loss: 0.0104 - mae: 0.0804 - val_loss: 0.0058 - val_mae: 0.0572\n",
            "Epoch 11/100\n",
            "36/36 [==============================] - 0s 3ms/step - loss: 0.0104 - mae: 0.0778 - val_loss: 0.0060 - val_mae: 0.0573\n",
            "Epoch 12/100\n",
            "36/36 [==============================] - 0s 2ms/step - loss: 0.0094 - mae: 0.0742 - val_loss: 0.0057 - val_mae: 0.0569\n",
            "Epoch 13/100\n",
            "36/36 [==============================] - 0s 3ms/step - loss: 0.0100 - mae: 0.0775 - val_loss: 0.0068 - val_mae: 0.0668\n",
            "Epoch 14/100\n",
            "36/36 [==============================] - 0s 3ms/step - loss: 0.0096 - mae: 0.0756 - val_loss: 0.0064 - val_mae: 0.0633\n",
            "Epoch 15/100\n",
            "36/36 [==============================] - 0s 3ms/step - loss: 0.0103 - mae: 0.0774 - val_loss: 0.0059 - val_mae: 0.0588\n",
            "Epoch 16/100\n",
            "36/36 [==============================] - 0s 2ms/step - loss: 0.0096 - mae: 0.0779 - val_loss: 0.0058 - val_mae: 0.0555\n",
            "Epoch 17/100\n",
            "36/36 [==============================] - 0s 3ms/step - loss: 0.0093 - mae: 0.0746 - val_loss: 0.0057 - val_mae: 0.0550\n",
            "Epoch 18/100\n",
            "36/36 [==============================] - 0s 3ms/step - loss: 0.0094 - mae: 0.0767 - val_loss: 0.0054 - val_mae: 0.0531\n",
            "Epoch 19/100\n",
            "36/36 [==============================] - 0s 2ms/step - loss: 0.0095 - mae: 0.0743 - val_loss: 0.0060 - val_mae: 0.0610\n",
            "Epoch 20/100\n",
            "36/36 [==============================] - 0s 2ms/step - loss: 0.0085 - mae: 0.0700 - val_loss: 0.0062 - val_mae: 0.0635\n",
            "Epoch 21/100\n",
            "36/36 [==============================] - 0s 3ms/step - loss: 0.0093 - mae: 0.0773 - val_loss: 0.0056 - val_mae: 0.0554\n",
            "Epoch 22/100\n",
            "36/36 [==============================] - 0s 3ms/step - loss: 0.0085 - mae: 0.0700 - val_loss: 0.0059 - val_mae: 0.0596\n",
            "Epoch 23/100\n",
            "36/36 [==============================] - 0s 3ms/step - loss: 0.0093 - mae: 0.0735 - val_loss: 0.0055 - val_mae: 0.0526\n",
            "Epoch 24/100\n",
            "36/36 [==============================] - 0s 3ms/step - loss: 0.0090 - mae: 0.0731 - val_loss: 0.0055 - val_mae: 0.0557\n",
            "Epoch 25/100\n",
            "36/36 [==============================] - 0s 3ms/step - loss: 0.0093 - mae: 0.0743 - val_loss: 0.0057 - val_mae: 0.0575\n",
            "Epoch 26/100\n",
            "36/36 [==============================] - 0s 3ms/step - loss: 0.0083 - mae: 0.0705 - val_loss: 0.0058 - val_mae: 0.0572\n",
            "Epoch 27/100\n",
            "36/36 [==============================] - 0s 3ms/step - loss: 0.0084 - mae: 0.0705 - val_loss: 0.0054 - val_mae: 0.0536\n",
            "Epoch 28/100\n",
            "36/36 [==============================] - 0s 3ms/step - loss: 0.0087 - mae: 0.0729 - val_loss: 0.0056 - val_mae: 0.0575\n",
            "Epoch 29/100\n",
            "36/36 [==============================] - 0s 3ms/step - loss: 0.0085 - mae: 0.0715 - val_loss: 0.0060 - val_mae: 0.0606\n",
            "Epoch 30/100\n",
            "36/36 [==============================] - 0s 3ms/step - loss: 0.0082 - mae: 0.0705 - val_loss: 0.0054 - val_mae: 0.0577\n",
            "Epoch 31/100\n",
            "36/36 [==============================] - 0s 3ms/step - loss: 0.0082 - mae: 0.0687 - val_loss: 0.0064 - val_mae: 0.0670\n",
            "Epoch 32/100\n",
            "36/36 [==============================] - 0s 3ms/step - loss: 0.0085 - mae: 0.0705 - val_loss: 0.0057 - val_mae: 0.0605\n",
            "Epoch 33/100\n",
            "36/36 [==============================] - 0s 3ms/step - loss: 0.0080 - mae: 0.0698 - val_loss: 0.0053 - val_mae: 0.0510\n",
            "Epoch 34/100\n",
            "36/36 [==============================] - 0s 3ms/step - loss: 0.0082 - mae: 0.0670 - val_loss: 0.0053 - val_mae: 0.0543\n",
            "Epoch 35/100\n",
            "36/36 [==============================] - 0s 3ms/step - loss: 0.0082 - mae: 0.0701 - val_loss: 0.0051 - val_mae: 0.0522\n",
            "Epoch 36/100\n",
            "36/36 [==============================] - 0s 4ms/step - loss: 0.0090 - mae: 0.0720 - val_loss: 0.0060 - val_mae: 0.0631\n",
            "Epoch 37/100\n",
            "36/36 [==============================] - 0s 4ms/step - loss: 0.0079 - mae: 0.0684 - val_loss: 0.0054 - val_mae: 0.0578\n",
            "Epoch 38/100\n",
            "36/36 [==============================] - 0s 6ms/step - loss: 0.0074 - mae: 0.0637 - val_loss: 0.0049 - val_mae: 0.0541\n",
            "Epoch 39/100\n",
            "36/36 [==============================] - 0s 5ms/step - loss: 0.0070 - mae: 0.0643 - val_loss: 0.0050 - val_mae: 0.0453\n",
            "Epoch 40/100\n",
            "36/36 [==============================] - 0s 6ms/step - loss: 0.0071 - mae: 0.0656 - val_loss: 0.0047 - val_mae: 0.0545\n",
            "Epoch 41/100\n",
            "36/36 [==============================] - 0s 6ms/step - loss: 0.0077 - mae: 0.0694 - val_loss: 0.0047 - val_mae: 0.0543\n",
            "Epoch 42/100\n",
            "36/36 [==============================] - 0s 6ms/step - loss: 0.0069 - mae: 0.0647 - val_loss: 0.0041 - val_mae: 0.0492\n",
            "Epoch 43/100\n",
            "36/36 [==============================] - 0s 8ms/step - loss: 0.0062 - mae: 0.0591 - val_loss: 0.0041 - val_mae: 0.0496\n",
            "Epoch 44/100\n",
            "36/36 [==============================] - 0s 7ms/step - loss: 0.0065 - mae: 0.0615 - val_loss: 0.0041 - val_mae: 0.0477\n",
            "Epoch 45/100\n",
            "36/36 [==============================] - 0s 8ms/step - loss: 0.0058 - mae: 0.0594 - val_loss: 0.0038 - val_mae: 0.0452\n",
            "Epoch 46/100\n",
            "36/36 [==============================] - 0s 7ms/step - loss: 0.0062 - mae: 0.0595 - val_loss: 0.0044 - val_mae: 0.0545\n",
            "Epoch 47/100\n",
            "36/36 [==============================] - 0s 6ms/step - loss: 0.0061 - mae: 0.0591 - val_loss: 0.0045 - val_mae: 0.0556\n",
            "Epoch 48/100\n",
            "36/36 [==============================] - 0s 5ms/step - loss: 0.0067 - mae: 0.0602 - val_loss: 0.0052 - val_mae: 0.0597\n",
            "Epoch 49/100\n",
            "36/36 [==============================] - 0s 5ms/step - loss: 0.0065 - mae: 0.0603 - val_loss: 0.0048 - val_mae: 0.0580\n",
            "Epoch 50/100\n",
            "36/36 [==============================] - 0s 8ms/step - loss: 0.0060 - mae: 0.0588 - val_loss: 0.0035 - val_mae: 0.0458\n",
            "Epoch 51/100\n",
            "36/36 [==============================] - 0s 6ms/step - loss: 0.0068 - mae: 0.0601 - val_loss: 0.0043 - val_mae: 0.0483\n",
            "Epoch 52/100\n",
            "36/36 [==============================] - 0s 5ms/step - loss: 0.0064 - mae: 0.0591 - val_loss: 0.0032 - val_mae: 0.0405\n",
            "Epoch 53/100\n",
            "36/36 [==============================] - 0s 5ms/step - loss: 0.0064 - mae: 0.0600 - val_loss: 0.0037 - val_mae: 0.0474\n",
            "Epoch 54/100\n",
            "36/36 [==============================] - 0s 6ms/step - loss: 0.0062 - mae: 0.0622 - val_loss: 0.0037 - val_mae: 0.0494\n",
            "Epoch 55/100\n",
            "36/36 [==============================] - 0s 7ms/step - loss: 0.0065 - mae: 0.0610 - val_loss: 0.0037 - val_mae: 0.0411\n",
            "Epoch 56/100\n",
            "36/36 [==============================] - 0s 5ms/step - loss: 0.0061 - mae: 0.0593 - val_loss: 0.0036 - val_mae: 0.0457\n",
            "Epoch 57/100\n",
            "36/36 [==============================] - 0s 8ms/step - loss: 0.0057 - mae: 0.0567 - val_loss: 0.0036 - val_mae: 0.0451\n",
            "Epoch 58/100\n",
            "36/36 [==============================] - 0s 5ms/step - loss: 0.0065 - mae: 0.0613 - val_loss: 0.0043 - val_mae: 0.0532\n",
            "Epoch 59/100\n",
            "36/36 [==============================] - 0s 6ms/step - loss: 0.0057 - mae: 0.0572 - val_loss: 0.0036 - val_mae: 0.0455\n",
            "Epoch 60/100\n",
            "36/36 [==============================] - 0s 4ms/step - loss: 0.0060 - mae: 0.0601 - val_loss: 0.0044 - val_mae: 0.0564\n",
            "Epoch 61/100\n",
            "36/36 [==============================] - 0s 5ms/step - loss: 0.0051 - mae: 0.0545 - val_loss: 0.0043 - val_mae: 0.0549\n",
            "Epoch 62/100\n",
            "36/36 [==============================] - 0s 5ms/step - loss: 0.0055 - mae: 0.0551 - val_loss: 0.0038 - val_mae: 0.0461\n",
            "Epoch 63/100\n",
            "36/36 [==============================] - 0s 7ms/step - loss: 0.0056 - mae: 0.0563 - val_loss: 0.0041 - val_mae: 0.0541\n",
            "Epoch 64/100\n",
            "36/36 [==============================] - 0s 5ms/step - loss: 0.0061 - mae: 0.0578 - val_loss: 0.0034 - val_mae: 0.0448\n",
            "Epoch 65/100\n",
            "36/36 [==============================] - 0s 7ms/step - loss: 0.0052 - mae: 0.0545 - val_loss: 0.0041 - val_mae: 0.0494\n",
            "Epoch 66/100\n",
            "36/36 [==============================] - 0s 4ms/step - loss: 0.0052 - mae: 0.0565 - val_loss: 0.0033 - val_mae: 0.0458\n",
            "Epoch 67/100\n",
            "36/36 [==============================] - 0s 7ms/step - loss: 0.0060 - mae: 0.0602 - val_loss: 0.0053 - val_mae: 0.0623\n",
            "Epoch 68/100\n",
            "36/36 [==============================] - 0s 6ms/step - loss: 0.0065 - mae: 0.0611 - val_loss: 0.0035 - val_mae: 0.0420\n",
            "Epoch 69/100\n",
            "36/36 [==============================] - 0s 4ms/step - loss: 0.0066 - mae: 0.0625 - val_loss: 0.0046 - val_mae: 0.0573\n",
            "Epoch 70/100\n",
            "36/36 [==============================] - 0s 5ms/step - loss: 0.0062 - mae: 0.0591 - val_loss: 0.0038 - val_mae: 0.0431\n",
            "Epoch 71/100\n",
            "36/36 [==============================] - 0s 6ms/step - loss: 0.0072 - mae: 0.0636 - val_loss: 0.0042 - val_mae: 0.0546\n",
            "Epoch 72/100\n",
            "36/36 [==============================] - 0s 9ms/step - loss: 0.0055 - mae: 0.0581 - val_loss: 0.0041 - val_mae: 0.0552\n",
            "Epoch 00072: early stopping\n"
          ]
        }
      ]
    },
    {
      "cell_type": "code",
      "source": [
        "val_mse,val_mae = model.evaluate(features_test_scaled,labels_test,verbose=0)\n",
        "print(val_mse,val_mae)"
      ],
      "metadata": {
        "colab": {
          "base_uri": "https://localhost:8080/"
        },
        "id": "xAJZroYnazFW",
        "outputId": "14bc8435-d499-4236-8ffb-4bbc3ffd65ad"
      },
      "execution_count": 12,
      "outputs": [
        {
          "output_type": "stream",
          "name": "stdout",
          "text": [
            "0.004503170028328896 0.05276947841048241\n"
          ]
        }
      ]
    },
    {
      "cell_type": "markdown",
      "source": [
        "tuning model (mse,mae) (0.007,0.0667) ---early_stoppint--> (0.00653,0.0654) --Dropout--->(0.00671,0.0597)---Optimizer=SGD-->(0.00559,0.0560)---epochs_increse--> (0.0055,0.054)---learning_desc-->(0.00509,0.0527)"
      ],
      "metadata": {
        "id": "yqPEO5KR5gPr"
      }
    },
    {
      "cell_type": "code",
      "source": [
        "predicted_value = model.predict(features_test_scaled)\n",
        "print(r2_score(labels_test,predicted_value))"
      ],
      "metadata": {
        "colab": {
          "base_uri": "https://localhost:8080/"
        },
        "id": "FP-mmho7g-fa",
        "outputId": "e1efc02c-1cf7-4c5d-fb1d-ba43a250ca71"
      },
      "execution_count": 15,
      "outputs": [
        {
          "output_type": "stream",
          "name": "stdout",
          "text": [
            "0.7693255473810561\n"
          ]
        }
      ]
    },
    {
      "cell_type": "markdown",
      "source": [
        "Our Model is 77% Accurate which can be improved with more fine tuning Also by consider if there are any dataset features that should not be included as a predictor."
      ],
      "metadata": {
        "id": "GSASbKcU6tVU"
      }
    },
    {
      "cell_type": "markdown",
      "source": [
        "# Visualizing Error"
      ],
      "metadata": {
        "id": "LHWD1usz6UaF"
      }
    },
    {
      "cell_type": "code",
      "source": [
        "fig = plt.figure(figsize=(8,10))\n",
        "ax1 = fig.add_subplot(2, 1, 1)\n",
        "ax1.plot(history.history['mae'])\n",
        "ax1.plot(history.history['val_mae'])\n",
        "ax1.set_title('model mae')\n",
        "ax1.set_ylabel('MAE')\n",
        "ax1.set_xlabel('epoch')\n",
        "ax1.legend(['train', 'validation'], loc='upper right')\n",
        "\n",
        "# Plot loss and val_loss over each epoch\n",
        "ax2 = fig.add_subplot(2, 1, 2)\n",
        "ax2.plot(history.history['loss'])\n",
        "ax2.plot(history.history['val_loss'])\n",
        "ax2.set_title('model loss')\n",
        "ax2.set_ylabel('loss')\n",
        "ax2.set_xlabel('epoch')\n",
        "ax2.legend(['train', 'validation'], loc='upper right')\n",
        "\n",
        "plt.show()"
      ],
      "metadata": {
        "colab": {
          "base_uri": "https://localhost:8080/",
          "height": 621
        },
        "id": "aXegMOAXhLyO",
        "outputId": "31771f5f-730c-4524-bfcd-5f5604fcdd74"
      },
      "execution_count": 14,
      "outputs": [
        {
          "output_type": "display_data",
          "data": {
            "image/png": "[encoded data removed]",
            "text/plain": [
              "<Figure size 576x720 with 2 Axes>"
            ]
          },
          "metadata": {
            "needs_background": "light"
          }
        }
      ]
    }
  ]
}