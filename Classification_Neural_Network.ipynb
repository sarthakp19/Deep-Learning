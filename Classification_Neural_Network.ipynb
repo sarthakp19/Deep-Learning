{
  "nbformat": 4,
  "nbformat_minor": 0,
  "metadata": {
    "colab": {
      "name": "Classification-Neural-Network.ipynb",
      "provenance": []
    },
    "kernelspec": {
      "name": "python3",
      "display_name": "Python 3"
    },
    "language_info": {
      "name": "python"
    },
    "accelerator": "GPU"
  },
  "cells": [
    {
      "cell_type": "markdown",
      "source": [
        "# Classification\n",
        "In this project, we will use a dataset from Kaggle to predict the survival of patients with heart failure from serum creatinine and ejection fraction, and other factors such as age, anemia, diabetes, and so on.\n",
        "\n",
        "People with cardiovascular disease or who are at high cardiovascular risk (due to the presence of one or more risk factors such as hypertension, diabetes, hyperlipidemia, or already established disease) need early detection and management wherein a machine learning model can be of great help."
      ],
      "metadata": {
        "id": "s2zksYk79R5Y"
      }
    },
    {
      "cell_type": "code",
      "execution_count": 31,
      "metadata": {
        "id": "0GkRAMx89IKZ"
      },
      "outputs": [],
      "source": [
        "import pandas as pd\n",
        "from sklearn.preprocessing import StandardScaler, LabelEncoder\n",
        "from sklearn.model_selection import train_test_split\n",
        "from collections import Counter\n",
        "from sklearn.compose import ColumnTransformer\n",
        "from tensorflow.keras.models import Sequential\n",
        "from tensorflow.keras.layers import Dense, InputLayer,Dropout\n",
        "from sklearn.metrics import classification_report\n",
        "from tensorflow.keras.utils import to_categorical\n",
        "import numpy as np\n",
        "from matplotlib import pyplot as plt\n",
        "from tensorflow.keras.callbacks import EarlyStopping\n"
      ]
    },
    {
      "cell_type": "code",
      "source": [
        "data = pd.read_csv('heart_failure.csv')\n",
        "data.head()"
      ],
      "metadata": {
        "colab": {
          "base_uri": "https://localhost:8080/",
          "height": 287
        },
        "id": "OaH4uTz_9Roj",
        "outputId": "99ef906a-d091-4d48-916f-44852ad4802f"
      },
      "execution_count": 2,
      "outputs": [
        {
          "output_type": "execute_result",
          "data": {
            "text/html": [
              "\n",
              "  <div id=\"df-e2ec641e-443b-438b-bd46-7993a147cc15\">\n",
              "    <div class=\"colab-df-container\">\n",
              "      <div>\n",
              "<style scoped>\n",
              "    .dataframe tbody tr th:only-of-type {\n",
              "        vertical-align: middle;\n",
              "    }\n",
              "\n",
              "    .dataframe tbody tr th {\n",
              "        vertical-align: top;\n",
              "    }\n",
              "\n",
              "    .dataframe thead th {\n",
              "        text-align: right;\n",
              "    }\n",
              "</style>\n",
              "<table border=\"1\" class=\"dataframe\">\n",
              "  <thead>\n",
              "    <tr style=\"text-align: right;\">\n",
              "      <th></th>\n",
              "      <th>Unnamed: 0</th>\n",
              "      <th>age</th>\n",
              "      <th>anaemia</th>\n",
              "      <th>creatinine_phosphokinase</th>\n",
              "      <th>diabetes</th>\n",
              "      <th>ejection_fraction</th>\n",
              "      <th>high_blood_pressure</th>\n",
              "      <th>platelets</th>\n",
              "      <th>serum_creatinine</th>\n",
              "      <th>serum_sodium</th>\n",
              "      <th>sex</th>\n",
              "      <th>smoking</th>\n",
              "      <th>time</th>\n",
              "      <th>DEATH_EVENT</th>\n",
              "      <th>death_event</th>\n",
              "    </tr>\n",
              "  </thead>\n",
              "  <tbody>\n",
              "    <tr>\n",
              "      <th>0</th>\n",
              "      <td>0</td>\n",
              "      <td>75.0</td>\n",
              "      <td>no</td>\n",
              "      <td>582</td>\n",
              "      <td>no</td>\n",
              "      <td>20</td>\n",
              "      <td>yes</td>\n",
              "      <td>265000.00</td>\n",
              "      <td>1.9</td>\n",
              "      <td>130</td>\n",
              "      <td>yes</td>\n",
              "      <td>no</td>\n",
              "      <td>4</td>\n",
              "      <td>1</td>\n",
              "      <td>yes</td>\n",
              "    </tr>\n",
              "    <tr>\n",
              "      <th>1</th>\n",
              "      <td>1</td>\n",
              "      <td>55.0</td>\n",
              "      <td>no</td>\n",
              "      <td>7861</td>\n",
              "      <td>no</td>\n",
              "      <td>38</td>\n",
              "      <td>no</td>\n",
              "      <td>263358.03</td>\n",
              "      <td>1.1</td>\n",
              "      <td>136</td>\n",
              "      <td>yes</td>\n",
              "      <td>no</td>\n",
              "      <td>6</td>\n",
              "      <td>1</td>\n",
              "      <td>yes</td>\n",
              "    </tr>\n",
              "    <tr>\n",
              "      <th>2</th>\n",
              "      <td>2</td>\n",
              "      <td>65.0</td>\n",
              "      <td>no</td>\n",
              "      <td>146</td>\n",
              "      <td>no</td>\n",
              "      <td>20</td>\n",
              "      <td>no</td>\n",
              "      <td>162000.00</td>\n",
              "      <td>1.3</td>\n",
              "      <td>129</td>\n",
              "      <td>yes</td>\n",
              "      <td>yes</td>\n",
              "      <td>7</td>\n",
              "      <td>1</td>\n",
              "      <td>yes</td>\n",
              "    </tr>\n",
              "    <tr>\n",
              "      <th>3</th>\n",
              "      <td>3</td>\n",
              "      <td>50.0</td>\n",
              "      <td>yes</td>\n",
              "      <td>111</td>\n",
              "      <td>no</td>\n",
              "      <td>20</td>\n",
              "      <td>no</td>\n",
              "      <td>210000.00</td>\n",
              "      <td>1.9</td>\n",
              "      <td>137</td>\n",
              "      <td>yes</td>\n",
              "      <td>no</td>\n",
              "      <td>7</td>\n",
              "      <td>1</td>\n",
              "      <td>yes</td>\n",
              "    </tr>\n",
              "    <tr>\n",
              "      <th>4</th>\n",
              "      <td>4</td>\n",
              "      <td>65.0</td>\n",
              "      <td>yes</td>\n",
              "      <td>160</td>\n",
              "      <td>yes</td>\n",
              "      <td>20</td>\n",
              "      <td>no</td>\n",
              "      <td>327000.00</td>\n",
              "      <td>2.7</td>\n",
              "      <td>116</td>\n",
              "      <td>no</td>\n",
              "      <td>no</td>\n",
              "      <td>8</td>\n",
              "      <td>1</td>\n",
              "      <td>yes</td>\n",
              "    </tr>\n",
              "  </tbody>\n",
              "</table>\n",
              "</div>\n",
              "      <button class=\"colab-df-convert\" onclick=\"convertToInteractive('df-e2ec641e-443b-438b-bd46-7993a147cc15')\"\n",
              "              title=\"Convert this dataframe to an interactive table.\"\n",
              "              style=\"display:none;\">\n",
              "        \n",
              "  <svg xmlns=\"http://www.w3.org/2000/svg\" height=\"24px\"viewBox=\"0 0 24 24\"\n",
              "       width=\"24px\">\n",
              "    <path d=\"M0 0h24v24H0V0z\" fill=\"none\"/>\n",
              "    <path d=\"M18.56 5.44l.94 2.06.94-2.06 2.06-.94-2.06-.94-.94-2.06-.94 2.06-2.06.94zm-11 1L8.5 8.5l.94-2.06 2.06-.94-2.06-.94L8.5 2.5l-.94 2.06-2.06.94zm10 10l.94 2.06.94-2.06 2.06-.94-2.06-.94-.94-2.06-.94 2.06-2.06.94z\"/><path d=\"M17.41 7.96l-1.37-1.37c-.4-.4-.92-.59-1.43-.59-.52 0-1.04.2-1.43.59L10.3 9.45l-7.72 7.72c-.78.78-.78 2.05 0 2.83L4 21.41c.39.39.9.59 1.41.59.51 0 1.02-.2 1.41-.59l7.78-7.78 2.81-2.81c.8-.78.8-2.07 0-2.86zM5.41 20L4 18.59l7.72-7.72 1.47 1.35L5.41 20z\"/>\n",
              "  </svg>\n",
              "      </button>\n",
              "      \n",
              "  <style>\n",
              "    .colab-df-container {\n",
              "      display:flex;\n",
              "      flex-wrap:wrap;\n",
              "      gap: 12px;\n",
              "    }\n",
              "\n",
              "    .colab-df-convert {\n",
              "      background-color: #E8F0FE;\n",
              "      border: none;\n",
              "      border-radius: 50%;\n",
              "      cursor: pointer;\n",
              "      display: none;\n",
              "      fill: #1967D2;\n",
              "      height: 32px;\n",
              "      padding: 0 0 0 0;\n",
              "      width: 32px;\n",
              "    }\n",
              "\n",
              "    .colab-df-convert:hover {\n",
              "      background-color: #E2EBFA;\n",
              "      box-shadow: 0px 1px 2px rgba(60, 64, 67, 0.3), 0px 1px 3px 1px rgba(60, 64, 67, 0.15);\n",
              "      fill: #174EA6;\n",
              "    }\n",
              "\n",
              "    [theme=dark] .colab-df-convert {\n",
              "      background-color: #3B4455;\n",
              "      fill: #D2E3FC;\n",
              "    }\n",
              "\n",
              "    [theme=dark] .colab-df-convert:hover {\n",
              "      background-color: #434B5C;\n",
              "      box-shadow: 0px 1px 3px 1px rgba(0, 0, 0, 0.15);\n",
              "      filter: drop-shadow(0px 1px 2px rgba(0, 0, 0, 0.3));\n",
              "      fill: #FFFFFF;\n",
              "    }\n",
              "  </style>\n",
              "\n",
              "      <script>\n",
              "        const buttonEl =\n",
              "          document.querySelector('#df-e2ec641e-443b-438b-bd46-7993a147cc15 button.colab-df-convert');\n",
              "        buttonEl.style.display =\n",
              "          google.colab.kernel.accessAllowed ? 'block' : 'none';\n",
              "\n",
              "        async function convertToInteractive(key) {\n",
              "          const element = document.querySelector('#df-e2ec641e-443b-438b-bd46-7993a147cc15');\n",
              "          const dataTable =\n",
              "            await google.colab.kernel.invokeFunction('convertToInteractive',\n",
              "                                                     [key], {});\n",
              "          if (!dataTable) return;\n",
              "\n",
              "          const docLinkHtml = 'Like what you see? Visit the ' +\n",
              "            '<a target=\"_blank\" href=https://colab.research.google.com/notebooks/data_table.ipynb>data table notebook</a>'\n",
              "            + ' to learn more about interactive tables.';\n",
              "          element.innerHTML = '';\n",
              "          dataTable['output_type'] = 'display_data';\n",
              "          await google.colab.output.renderOutput(dataTable, element);\n",
              "          const docLink = document.createElement('div');\n",
              "          docLink.innerHTML = docLinkHtml;\n",
              "          element.appendChild(docLink);\n",
              "        }\n",
              "      </script>\n",
              "    </div>\n",
              "  </div>\n",
              "  "
            ],
            "text/plain": [
              "   Unnamed: 0   age anaemia  ...  time DEATH_EVENT  death_event\n",
              "0           0  75.0      no  ...     4           1          yes\n",
              "1           1  55.0      no  ...     6           1          yes\n",
              "2           2  65.0      no  ...     7           1          yes\n",
              "3           3  50.0     yes  ...     7           1          yes\n",
              "4           4  65.0     yes  ...     8           1          yes\n",
              "\n",
              "[5 rows x 15 columns]"
            ]
          },
          "metadata": {},
          "execution_count": 2
        }
      ]
    },
    {
      "cell_type": "code",
      "source": [
        "print(data.info())\n",
        "print(Counter(data['death_event']))"
      ],
      "metadata": {
        "colab": {
          "base_uri": "https://localhost:8080/"
        },
        "id": "0vgdTeyZ9i90",
        "outputId": "76cac04f-dc5c-41d0-bcff-d573aea44185"
      },
      "execution_count": 4,
      "outputs": [
        {
          "output_type": "stream",
          "name": "stdout",
          "text": [
            "<class 'pandas.core.frame.DataFrame'>\n",
            "RangeIndex: 299 entries, 0 to 298\n",
            "Data columns (total 15 columns):\n",
            " #   Column                    Non-Null Count  Dtype  \n",
            "---  ------                    --------------  -----  \n",
            " 0   Unnamed: 0                299 non-null    int64  \n",
            " 1   age                       299 non-null    float64\n",
            " 2   anaemia                   299 non-null    object \n",
            " 3   creatinine_phosphokinase  299 non-null    int64  \n",
            " 4   diabetes                  299 non-null    object \n",
            " 5   ejection_fraction         299 non-null    int64  \n",
            " 6   high_blood_pressure       299 non-null    object \n",
            " 7   platelets                 299 non-null    float64\n",
            " 8   serum_creatinine          299 non-null    float64\n",
            " 9   serum_sodium              299 non-null    int64  \n",
            " 10  sex                       299 non-null    object \n",
            " 11  smoking                   299 non-null    object \n",
            " 12  time                      299 non-null    int64  \n",
            " 13  DEATH_EVENT               299 non-null    int64  \n",
            " 14  death_event               299 non-null    object \n",
            "dtypes: float64(3), int64(6), object(6)\n",
            "memory usage: 35.2+ KB\n",
            "None\n",
            "Counter({'no': 203, 'yes': 96})\n"
          ]
        }
      ]
    },
    {
      "cell_type": "markdown",
      "source": [
        "# Data Preprocessing"
      ],
      "metadata": {
        "id": "aIPsNQSK9poD"
      }
    },
    {
      "cell_type": "code",
      "source": [
        "#Feature selection\n",
        "y = data.iloc[:,-1:]\n",
        "x = data.iloc[:, 1:-2]\n",
        "#Converting categorial data into one hot encoding\n",
        "x = pd.get_dummies(x)\n",
        "#Splitting th data\n",
        "X_train, X_test, Y_train, Y_test = train_test_split(x,y,test_size = 0.25, random_state = 57)\n",
        "# Standazing the numerical features\n",
        "ct = ColumnTransformer([('numeric', StandardScaler(), ['age','creatinine_phosphokinase','ejection_fraction','platelets','serum_creatinine','serum_sodium','time'])])\n",
        "X_train = ct.fit_transform(X_train)\n",
        "X_test = ct.transform(X_test)\n",
        "# Preparing label for classification\n",
        "le = LabelEncoder()\n",
        "Y_train = le.fit_transform(Y_train.astype(str))\n",
        "Y_test = le.transform(Y_test.astype(str))\n",
        "Y_train = to_categorical(Y_train)\n",
        "Y_test = to_categorical(Y_test)"
      ],
      "metadata": {
        "colab": {
          "base_uri": "https://localhost:8080/"
        },
        "id": "RfkiWKUr9tnW",
        "outputId": "a3295045-9ac7-47a8-be5d-44b12e56a189"
      },
      "execution_count": 5,
      "outputs": [
        {
          "output_type": "stream",
          "name": "stderr",
          "text": [
            "/usr/local/lib/python3.7/dist-packages/sklearn/preprocessing/_label.py:115: DataConversionWarning: A column-vector y was passed when a 1d array was expected. Please change the shape of y to (n_samples, ), for example using ravel().\n",
            "  y = column_or_1d(y, warn=True)\n",
            "/usr/local/lib/python3.7/dist-packages/sklearn/preprocessing/_label.py:133: DataConversionWarning: A column-vector y was passed when a 1d array was expected. Please change the shape of y to (n_samples, ), for example using ravel().\n",
            "  y = column_or_1d(y, warn=True)\n"
          ]
        }
      ]
    },
    {
      "cell_type": "markdown",
      "source": [
        "# Building The Model"
      ],
      "metadata": {
        "id": "CHMKIwPa-hcS"
      }
    },
    {
      "cell_type": "code",
      "source": [
        "def design_model(features):\n",
        "  model = Sequential()\n",
        "  model.add(InputLayer(input_shape = (X_train.shape[1],)))\n",
        "  model.add(Dense(12, activation = 'relu'))\n",
        "  # model.add(Dropout(0.2))\n",
        "  # model.add(Dense(6, activation = 'relu'))\n",
        "  # model.add(Dropout(0.1))\n",
        "\n",
        "  model.add(Dense(2, activation = 'softmax'))\n",
        "  model.compile(loss = 'categorical_crossentropy', optimizer = 'adam', metrics = ['accuracy'])\n",
        "  model.summary()\n",
        "  return model"
      ],
      "metadata": {
        "id": "LdEgj23i-bK9"
      },
      "execution_count": 57,
      "outputs": []
    },
    {
      "cell_type": "code",
      "source": [
        "es = EarlyStopping(monitor='val_loss',mode='min',patience=10)\n",
        "model = design_model(X_train)\n",
        "history = model.fit(X_train, Y_train, epochs = 100, batch_size = 16, verbose = 1,validation_split=0.2,callbacks=[es])"
      ],
      "metadata": {
        "colab": {
          "base_uri": "https://localhost:8080/"
        },
        "id": "iJeMMEo3--OZ",
        "outputId": "dbcc8a7f-8b09-4bed-a838-53fba6fc9a59"
      },
      "execution_count": 62,
      "outputs": [
        {
          "output_type": "stream",
          "name": "stdout",
          "text": [
            "Model: \"sequential_16\"\n",
            "_________________________________________________________________\n",
            " Layer (type)                Output Shape              Param #   \n",
            "=================================================================\n",
            " dense_40 (Dense)            (None, 12)                96        \n",
            "                                                                 \n",
            " dense_41 (Dense)            (None, 2)                 26        \n",
            "                                                                 \n",
            "=================================================================\n",
            "Total params: 122\n",
            "Trainable params: 122\n",
            "Non-trainable params: 0\n",
            "_________________________________________________________________\n",
            "Epoch 1/100\n",
            "12/12 [==============================] - 1s 38ms/step - loss: 0.7387 - accuracy: 0.5196 - val_loss: 0.6104 - val_accuracy: 0.6222\n",
            "Epoch 2/100\n",
            "12/12 [==============================] - 0s 11ms/step - loss: 0.6942 - accuracy: 0.5866 - val_loss: 0.5709 - val_accuracy: 0.6889\n",
            "Epoch 3/100\n",
            "12/12 [==============================] - 0s 11ms/step - loss: 0.6560 - accuracy: 0.6257 - val_loss: 0.5378 - val_accuracy: 0.6889\n",
            "Epoch 4/100\n",
            "12/12 [==============================] - 0s 11ms/step - loss: 0.6262 - accuracy: 0.6816 - val_loss: 0.5100 - val_accuracy: 0.7556\n",
            "Epoch 5/100\n",
            "12/12 [==============================] - 0s 11ms/step - loss: 0.5971 - accuracy: 0.7207 - val_loss: 0.4877 - val_accuracy: 0.8000\n",
            "Epoch 6/100\n",
            "12/12 [==============================] - 0s 12ms/step - loss: 0.5741 - accuracy: 0.7374 - val_loss: 0.4696 - val_accuracy: 0.8222\n",
            "Epoch 7/100\n",
            "12/12 [==============================] - 0s 14ms/step - loss: 0.5563 - accuracy: 0.7598 - val_loss: 0.4538 - val_accuracy: 0.8444\n",
            "Epoch 8/100\n",
            "12/12 [==============================] - 0s 14ms/step - loss: 0.5411 - accuracy: 0.7765 - val_loss: 0.4409 - val_accuracy: 0.8222\n",
            "Epoch 9/100\n",
            "12/12 [==============================] - 0s 12ms/step - loss: 0.5274 - accuracy: 0.7989 - val_loss: 0.4308 - val_accuracy: 0.8444\n",
            "Epoch 10/100\n",
            "12/12 [==============================] - 0s 11ms/step - loss: 0.5156 - accuracy: 0.7933 - val_loss: 0.4209 - val_accuracy: 0.8667\n",
            "Epoch 11/100\n",
            "12/12 [==============================] - 0s 11ms/step - loss: 0.5044 - accuracy: 0.7933 - val_loss: 0.4125 - val_accuracy: 0.8667\n",
            "Epoch 12/100\n",
            "12/12 [==============================] - 0s 11ms/step - loss: 0.4940 - accuracy: 0.8101 - val_loss: 0.4060 - val_accuracy: 0.8667\n",
            "Epoch 13/100\n",
            "12/12 [==============================] - 0s 12ms/step - loss: 0.4841 - accuracy: 0.8101 - val_loss: 0.3989 - val_accuracy: 0.8889\n",
            "Epoch 14/100\n",
            "12/12 [==============================] - 0s 11ms/step - loss: 0.4751 - accuracy: 0.8101 - val_loss: 0.3928 - val_accuracy: 0.8889\n",
            "Epoch 15/100\n",
            "12/12 [==============================] - 0s 11ms/step - loss: 0.4676 - accuracy: 0.8156 - val_loss: 0.3875 - val_accuracy: 0.8889\n",
            "Epoch 16/100\n",
            "12/12 [==============================] - 0s 12ms/step - loss: 0.4597 - accuracy: 0.8156 - val_loss: 0.3830 - val_accuracy: 0.8889\n",
            "Epoch 17/100\n",
            "12/12 [==============================] - 0s 14ms/step - loss: 0.4525 - accuracy: 0.8156 - val_loss: 0.3783 - val_accuracy: 0.8889\n",
            "Epoch 18/100\n",
            "12/12 [==============================] - 0s 13ms/step - loss: 0.4458 - accuracy: 0.8212 - val_loss: 0.3744 - val_accuracy: 0.8889\n",
            "Epoch 19/100\n",
            "12/12 [==============================] - 0s 12ms/step - loss: 0.4394 - accuracy: 0.8324 - val_loss: 0.3709 - val_accuracy: 0.8889\n",
            "Epoch 20/100\n",
            "12/12 [==============================] - 0s 10ms/step - loss: 0.4328 - accuracy: 0.8380 - val_loss: 0.3675 - val_accuracy: 0.8889\n",
            "Epoch 21/100\n",
            "12/12 [==============================] - 0s 16ms/step - loss: 0.4274 - accuracy: 0.8380 - val_loss: 0.3636 - val_accuracy: 0.8889\n",
            "Epoch 22/100\n",
            "12/12 [==============================] - 0s 21ms/step - loss: 0.4217 - accuracy: 0.8436 - val_loss: 0.3642 - val_accuracy: 0.8889\n",
            "Epoch 23/100\n",
            "12/12 [==============================] - 0s 19ms/step - loss: 0.4162 - accuracy: 0.8436 - val_loss: 0.3614 - val_accuracy: 0.8889\n",
            "Epoch 24/100\n",
            "12/12 [==============================] - 0s 23ms/step - loss: 0.4109 - accuracy: 0.8492 - val_loss: 0.3577 - val_accuracy: 0.8889\n",
            "Epoch 25/100\n",
            "12/12 [==============================] - 0s 19ms/step - loss: 0.4056 - accuracy: 0.8492 - val_loss: 0.3547 - val_accuracy: 0.8889\n",
            "Epoch 26/100\n",
            "12/12 [==============================] - 0s 21ms/step - loss: 0.4005 - accuracy: 0.8547 - val_loss: 0.3509 - val_accuracy: 0.8889\n",
            "Epoch 27/100\n",
            "12/12 [==============================] - 0s 15ms/step - loss: 0.3957 - accuracy: 0.8492 - val_loss: 0.3481 - val_accuracy: 0.8889\n",
            "Epoch 28/100\n",
            "12/12 [==============================] - 0s 12ms/step - loss: 0.3920 - accuracy: 0.8492 - val_loss: 0.3446 - val_accuracy: 0.8889\n",
            "Epoch 29/100\n",
            "12/12 [==============================] - 0s 10ms/step - loss: 0.3883 - accuracy: 0.8436 - val_loss: 0.3417 - val_accuracy: 0.8889\n",
            "Epoch 30/100\n",
            "12/12 [==============================] - 0s 11ms/step - loss: 0.3842 - accuracy: 0.8492 - val_loss: 0.3393 - val_accuracy: 0.8889\n",
            "Epoch 31/100\n",
            "12/12 [==============================] - 0s 10ms/step - loss: 0.3809 - accuracy: 0.8547 - val_loss: 0.3387 - val_accuracy: 0.8889\n",
            "Epoch 32/100\n",
            "12/12 [==============================] - 0s 12ms/step - loss: 0.3785 - accuracy: 0.8603 - val_loss: 0.3374 - val_accuracy: 0.8889\n",
            "Epoch 33/100\n",
            "12/12 [==============================] - 0s 11ms/step - loss: 0.3748 - accuracy: 0.8603 - val_loss: 0.3355 - val_accuracy: 0.8889\n",
            "Epoch 34/100\n",
            "12/12 [==============================] - 0s 12ms/step - loss: 0.3721 - accuracy: 0.8603 - val_loss: 0.3335 - val_accuracy: 0.8889\n",
            "Epoch 35/100\n",
            "12/12 [==============================] - 0s 9ms/step - loss: 0.3687 - accuracy: 0.8603 - val_loss: 0.3313 - val_accuracy: 0.8889\n",
            "Epoch 36/100\n",
            "12/12 [==============================] - 0s 11ms/step - loss: 0.3660 - accuracy: 0.8603 - val_loss: 0.3305 - val_accuracy: 0.8889\n",
            "Epoch 37/100\n",
            "12/12 [==============================] - 0s 11ms/step - loss: 0.3635 - accuracy: 0.8603 - val_loss: 0.3304 - val_accuracy: 0.8889\n",
            "Epoch 38/100\n",
            "12/12 [==============================] - 0s 10ms/step - loss: 0.3610 - accuracy: 0.8659 - val_loss: 0.3293 - val_accuracy: 0.8889\n",
            "Epoch 39/100\n",
            "12/12 [==============================] - 0s 11ms/step - loss: 0.3582 - accuracy: 0.8659 - val_loss: 0.3291 - val_accuracy: 0.8889\n",
            "Epoch 40/100\n",
            "12/12 [==============================] - 0s 10ms/step - loss: 0.3558 - accuracy: 0.8659 - val_loss: 0.3280 - val_accuracy: 0.8889\n",
            "Epoch 41/100\n",
            "12/12 [==============================] - 0s 13ms/step - loss: 0.3533 - accuracy: 0.8715 - val_loss: 0.3269 - val_accuracy: 0.8889\n",
            "Epoch 42/100\n",
            "12/12 [==============================] - 0s 11ms/step - loss: 0.3509 - accuracy: 0.8715 - val_loss: 0.3260 - val_accuracy: 0.8889\n",
            "Epoch 43/100\n",
            "12/12 [==============================] - 0s 10ms/step - loss: 0.3487 - accuracy: 0.8715 - val_loss: 0.3246 - val_accuracy: 0.8889\n",
            "Epoch 44/100\n",
            "12/12 [==============================] - 0s 10ms/step - loss: 0.3470 - accuracy: 0.8715 - val_loss: 0.3233 - val_accuracy: 0.8889\n",
            "Epoch 45/100\n",
            "12/12 [==============================] - 0s 12ms/step - loss: 0.3452 - accuracy: 0.8771 - val_loss: 0.3246 - val_accuracy: 0.8889\n",
            "Epoch 46/100\n",
            "12/12 [==============================] - 0s 12ms/step - loss: 0.3438 - accuracy: 0.8771 - val_loss: 0.3246 - val_accuracy: 0.8889\n",
            "Epoch 47/100\n",
            "12/12 [==============================] - 0s 11ms/step - loss: 0.3416 - accuracy: 0.8771 - val_loss: 0.3233 - val_accuracy: 0.8889\n",
            "Epoch 48/100\n",
            "12/12 [==============================] - 0s 12ms/step - loss: 0.3402 - accuracy: 0.8827 - val_loss: 0.3226 - val_accuracy: 0.8889\n",
            "Epoch 49/100\n",
            "12/12 [==============================] - 0s 12ms/step - loss: 0.3381 - accuracy: 0.8827 - val_loss: 0.3222 - val_accuracy: 0.8889\n",
            "Epoch 50/100\n",
            "12/12 [==============================] - 0s 11ms/step - loss: 0.3368 - accuracy: 0.8715 - val_loss: 0.3213 - val_accuracy: 0.8889\n",
            "Epoch 51/100\n",
            "12/12 [==============================] - 0s 11ms/step - loss: 0.3349 - accuracy: 0.8715 - val_loss: 0.3206 - val_accuracy: 0.8889\n",
            "Epoch 52/100\n",
            "12/12 [==============================] - 0s 12ms/step - loss: 0.3335 - accuracy: 0.8771 - val_loss: 0.3199 - val_accuracy: 0.8889\n",
            "Epoch 53/100\n",
            "12/12 [==============================] - 0s 11ms/step - loss: 0.3325 - accuracy: 0.8771 - val_loss: 0.3186 - val_accuracy: 0.8889\n",
            "Epoch 54/100\n",
            "12/12 [==============================] - 0s 12ms/step - loss: 0.3311 - accuracy: 0.8771 - val_loss: 0.3185 - val_accuracy: 0.8889\n",
            "Epoch 55/100\n",
            "12/12 [==============================] - 0s 11ms/step - loss: 0.3293 - accuracy: 0.8771 - val_loss: 0.3186 - val_accuracy: 0.8889\n",
            "Epoch 56/100\n",
            "12/12 [==============================] - 0s 12ms/step - loss: 0.3280 - accuracy: 0.8715 - val_loss: 0.3192 - val_accuracy: 0.8889\n",
            "Epoch 57/100\n",
            "12/12 [==============================] - 0s 11ms/step - loss: 0.3265 - accuracy: 0.8771 - val_loss: 0.3186 - val_accuracy: 0.8889\n",
            "Epoch 58/100\n",
            "12/12 [==============================] - 0s 11ms/step - loss: 0.3257 - accuracy: 0.8771 - val_loss: 0.3176 - val_accuracy: 0.8889\n",
            "Epoch 59/100\n",
            "12/12 [==============================] - 0s 12ms/step - loss: 0.3246 - accuracy: 0.8771 - val_loss: 0.3170 - val_accuracy: 0.8889\n",
            "Epoch 60/100\n",
            "12/12 [==============================] - 0s 12ms/step - loss: 0.3236 - accuracy: 0.8771 - val_loss: 0.3167 - val_accuracy: 0.8889\n",
            "Epoch 61/100\n",
            "12/12 [==============================] - 0s 11ms/step - loss: 0.3224 - accuracy: 0.8771 - val_loss: 0.3168 - val_accuracy: 0.8889\n",
            "Epoch 62/100\n",
            "12/12 [==============================] - 0s 13ms/step - loss: 0.3214 - accuracy: 0.8715 - val_loss: 0.3164 - val_accuracy: 0.8889\n",
            "Epoch 63/100\n",
            "12/12 [==============================] - 0s 11ms/step - loss: 0.3208 - accuracy: 0.8715 - val_loss: 0.3160 - val_accuracy: 0.8889\n",
            "Epoch 64/100\n",
            "12/12 [==============================] - 0s 12ms/step - loss: 0.3198 - accuracy: 0.8715 - val_loss: 0.3155 - val_accuracy: 0.8889\n",
            "Epoch 65/100\n",
            "12/12 [==============================] - 0s 11ms/step - loss: 0.3190 - accuracy: 0.8715 - val_loss: 0.3163 - val_accuracy: 0.8889\n",
            "Epoch 66/100\n",
            "12/12 [==============================] - 0s 13ms/step - loss: 0.3176 - accuracy: 0.8715 - val_loss: 0.3162 - val_accuracy: 0.8889\n",
            "Epoch 67/100\n",
            "12/12 [==============================] - 0s 12ms/step - loss: 0.3167 - accuracy: 0.8715 - val_loss: 0.3167 - val_accuracy: 0.8889\n",
            "Epoch 68/100\n",
            "12/12 [==============================] - 0s 11ms/step - loss: 0.3160 - accuracy: 0.8771 - val_loss: 0.3175 - val_accuracy: 0.8889\n",
            "Epoch 69/100\n",
            "12/12 [==============================] - 0s 11ms/step - loss: 0.3151 - accuracy: 0.8771 - val_loss: 0.3170 - val_accuracy: 0.8889\n",
            "Epoch 70/100\n",
            "12/12 [==============================] - 0s 12ms/step - loss: 0.3143 - accuracy: 0.8771 - val_loss: 0.3173 - val_accuracy: 0.8889\n",
            "Epoch 71/100\n",
            "12/12 [==============================] - 0s 12ms/step - loss: 0.3137 - accuracy: 0.8771 - val_loss: 0.3168 - val_accuracy: 0.8889\n",
            "Epoch 72/100\n",
            "12/12 [==============================] - 0s 13ms/step - loss: 0.3129 - accuracy: 0.8771 - val_loss: 0.3169 - val_accuracy: 0.8889\n",
            "Epoch 73/100\n",
            "12/12 [==============================] - 0s 13ms/step - loss: 0.3120 - accuracy: 0.8771 - val_loss: 0.3159 - val_accuracy: 0.8889\n",
            "Epoch 74/100\n",
            "12/12 [==============================] - 0s 12ms/step - loss: 0.3114 - accuracy: 0.8715 - val_loss: 0.3150 - val_accuracy: 0.8889\n",
            "Epoch 75/100\n",
            "12/12 [==============================] - 0s 12ms/step - loss: 0.3103 - accuracy: 0.8715 - val_loss: 0.3141 - val_accuracy: 0.8889\n",
            "Epoch 76/100\n",
            "12/12 [==============================] - 0s 12ms/step - loss: 0.3104 - accuracy: 0.8715 - val_loss: 0.3146 - val_accuracy: 0.8889\n",
            "Epoch 77/100\n",
            "12/12 [==============================] - 0s 10ms/step - loss: 0.3099 - accuracy: 0.8771 - val_loss: 0.3148 - val_accuracy: 0.8889\n",
            "Epoch 78/100\n",
            "12/12 [==============================] - 0s 10ms/step - loss: 0.3088 - accuracy: 0.8771 - val_loss: 0.3136 - val_accuracy: 0.8889\n",
            "Epoch 79/100\n",
            "12/12 [==============================] - 0s 10ms/step - loss: 0.3081 - accuracy: 0.8827 - val_loss: 0.3130 - val_accuracy: 0.8889\n",
            "Epoch 80/100\n",
            "12/12 [==============================] - 0s 11ms/step - loss: 0.3074 - accuracy: 0.8771 - val_loss: 0.3129 - val_accuracy: 0.8889\n",
            "Epoch 81/100\n",
            "12/12 [==============================] - 0s 15ms/step - loss: 0.3068 - accuracy: 0.8771 - val_loss: 0.3131 - val_accuracy: 0.8889\n",
            "Epoch 82/100\n",
            "12/12 [==============================] - 0s 12ms/step - loss: 0.3064 - accuracy: 0.8771 - val_loss: 0.3127 - val_accuracy: 0.8889\n",
            "Epoch 83/100\n",
            "12/12 [==============================] - 0s 11ms/step - loss: 0.3058 - accuracy: 0.8771 - val_loss: 0.3130 - val_accuracy: 0.8889\n",
            "Epoch 84/100\n",
            "12/12 [==============================] - 0s 13ms/step - loss: 0.3047 - accuracy: 0.8771 - val_loss: 0.3121 - val_accuracy: 0.8889\n",
            "Epoch 85/100\n",
            "12/12 [==============================] - 0s 10ms/step - loss: 0.3044 - accuracy: 0.8827 - val_loss: 0.3122 - val_accuracy: 0.8889\n",
            "Epoch 86/100\n",
            "12/12 [==============================] - 0s 11ms/step - loss: 0.3038 - accuracy: 0.8771 - val_loss: 0.3123 - val_accuracy: 0.8889\n",
            "Epoch 87/100\n",
            "12/12 [==============================] - 0s 12ms/step - loss: 0.3035 - accuracy: 0.8827 - val_loss: 0.3114 - val_accuracy: 0.8889\n",
            "Epoch 88/100\n",
            "12/12 [==============================] - 0s 10ms/step - loss: 0.3027 - accuracy: 0.8827 - val_loss: 0.3117 - val_accuracy: 0.8889\n",
            "Epoch 89/100\n",
            "12/12 [==============================] - 0s 13ms/step - loss: 0.3024 - accuracy: 0.8827 - val_loss: 0.3119 - val_accuracy: 0.8889\n",
            "Epoch 90/100\n",
            "12/12 [==============================] - 0s 11ms/step - loss: 0.3020 - accuracy: 0.8827 - val_loss: 0.3117 - val_accuracy: 0.8889\n",
            "Epoch 91/100\n",
            "12/12 [==============================] - 0s 12ms/step - loss: 0.3012 - accuracy: 0.8771 - val_loss: 0.3133 - val_accuracy: 0.8889\n",
            "Epoch 92/100\n",
            "12/12 [==============================] - 0s 10ms/step - loss: 0.3010 - accuracy: 0.8771 - val_loss: 0.3142 - val_accuracy: 0.8889\n",
            "Epoch 93/100\n",
            "12/12 [==============================] - 0s 11ms/step - loss: 0.3004 - accuracy: 0.8827 - val_loss: 0.3146 - val_accuracy: 0.8889\n",
            "Epoch 94/100\n",
            "12/12 [==============================] - 0s 11ms/step - loss: 0.3003 - accuracy: 0.8827 - val_loss: 0.3143 - val_accuracy: 0.8889\n",
            "Epoch 95/100\n",
            "12/12 [==============================] - 0s 12ms/step - loss: 0.2997 - accuracy: 0.8827 - val_loss: 0.3141 - val_accuracy: 0.8889\n",
            "Epoch 96/100\n",
            "12/12 [==============================] - 0s 11ms/step - loss: 0.2991 - accuracy: 0.8771 - val_loss: 0.3149 - val_accuracy: 0.8889\n",
            "Epoch 97/100\n",
            "12/12 [==============================] - 0s 9ms/step - loss: 0.2982 - accuracy: 0.8771 - val_loss: 0.3145 - val_accuracy: 0.8889\n"
          ]
        }
      ]
    },
    {
      "cell_type": "code",
      "source": [
        "loss, acc = model.evaluate(X_test, Y_test, verbose=0)\n",
        "\n",
        "print(\"Loss\", loss, \"Accuracy:\", acc)\n"
      ],
      "metadata": {
        "colab": {
          "base_uri": "https://localhost:8080/"
        },
        "id": "kDZyPZ4f_DiS",
        "outputId": "34dcd0b9-6401-487c-84bb-b041f878a37b"
      },
      "execution_count": 63,
      "outputs": [
        {
          "output_type": "stream",
          "name": "stdout",
          "text": [
            "Loss 0.5209091901779175 Accuracy: 0.7599999904632568\n"
          ]
        }
      ]
    },
    {
      "cell_type": "markdown",
      "source": [
        "# Visualizing Model"
      ],
      "metadata": {
        "id": "UOkk2HNsI0zd"
      }
    },
    {
      "cell_type": "code",
      "source": [
        "fig = plt.figure(figsize=(8,10))\n",
        "ax1 = fig.add_subplot(2, 1, 1)\n",
        "ax1.plot(history.history['loss'])\n",
        "ax1.plot(history.history['val_loss'])\n",
        "ax1.set_title('model Loss')\n",
        "ax1.set_ylabel('Loss')\n",
        "ax1.set_xlabel('epoch')\n",
        "ax1.legend(['train', 'validation'], loc='upper right')\n",
        "\n",
        "# Plot loss and val_loss over each epoch\n",
        "ax2 = fig.add_subplot(2, 1, 2)\n",
        "ax2.plot(history.history['accuracy'])\n",
        "ax2.plot(history.history['val_accuracy'])\n",
        "ax2.set_title('model Accuracy')\n",
        "ax2.set_ylabel('accuracy')\n",
        "ax2.set_xlabel('epoch')\n",
        "ax2.legend(['train', 'validation'], loc='upper right')\n",
        "\n",
        "plt.show()"
      ],
      "metadata": {
        "colab": {
          "base_uri": "https://localhost:8080/",
          "height": 621
        },
        "id": "K8Jz8j9SI3RE",
        "outputId": "0e74592e-c863-450f-cc81-a342b9dd8910"
      },
      "execution_count": 64,
      "outputs": [
        {
          "output_type": "display_data",
          "data": {
            "image/png": "[encoded data removed]",
            "text/plain": [
              "<Figure size 576x720 with 2 Axes>"
            ]
          },
          "metadata": {
            "needs_background": "light"
          }
        }
      ]
    },
    {
      "cell_type": "markdown",
      "source": [
        "# Generating a classification report"
      ],
      "metadata": {
        "id": "00Cv8eYe_c-Y"
      }
    },
    {
      "cell_type": "code",
      "source": [
        "y_estimate = model.predict(X_test, verbose = 0)\n",
        "\n",
        "y_estimate = np.argmax(y_estimate, axis=1)\n",
        "\n",
        "\n",
        "y_true = np.argmax(Y_test, axis=1)\n",
        "\n",
        "print(classification_report(y_true, y_estimate))"
      ],
      "metadata": {
        "colab": {
          "base_uri": "https://localhost:8080/"
        },
        "id": "GuzIuBk6_S9N",
        "outputId": "255be49d-8ca8-4638-e61e-e4af094beeda"
      },
      "execution_count": 65,
      "outputs": [
        {
          "output_type": "stream",
          "name": "stdout",
          "text": [
            "              precision    recall  f1-score   support\n",
            "\n",
            "           0       0.79      0.88      0.83        51\n",
            "           1       0.67      0.50      0.57        24\n",
            "\n",
            "    accuracy                           0.76        75\n",
            "   macro avg       0.73      0.69      0.70        75\n",
            "weighted avg       0.75      0.76      0.75        75\n",
            "\n"
          ]
        }
      ]
    }
  ]
}