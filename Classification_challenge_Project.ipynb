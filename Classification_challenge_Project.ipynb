{
 "cells": [
  {
   "cell_type": "markdown",
   "metadata": {
    "id": "9BAvPEluWZj7"
   },
   "source": [
    "# Covid-19 and Pneumonia Classification with Deep Learning\n",
    "\n",
    "We are a researcher in a hospital lab and are given the task to develop a learning model that supports doctors with diagnosing illnesses that affect patients’ lungs.\n",
    "\n",
    "We hope this model can help doctors with the challenge of deciphering X-ray scans and open a dialogue between your research team and the medical staff to create learning models that are as effective and interpretable as possible."
   ]
  },
  {
   "cell_type": "code",
   "execution_count": 2,
   "metadata": {
    "colab": {
     "base_uri": "https://localhost:8080/"
    },
    "id": "HPD3YBw_OOaK",
    "outputId": "126a0bfb-728e-46fe-a653-183fd5d45701"
   },
   "outputs": [
    {
     "name": "stdout",
     "output_type": "stream",
     "text": [
      "Mounted at /content/drive\n"
     ]
    }
   ],
   "source": [
    "from google.colab import drive\n",
    "drive.mount('/content/drive')"
   ]
  },
  {
   "cell_type": "code",
   "execution_count": 3,
   "metadata": {
    "id": "H8nIP9KYJ2Ym"
   },
   "outputs": [],
   "source": [
    "import tensorflow as tf\n",
    "from tensorflow.keras.preprocessing.image import ImageDataGenerator\n",
    "from tensorflow.keras.models import Sequential\n",
    "from tensorflow.keras.layers import Dropout,InputLayer,Conv2D,Dense,MaxPooling2D,Flatten\n",
    "from tensorflow.keras.metrics import CategoricalAccuracy,AUC\n",
    "from tensorflow.keras.losses import CategoricalCrossentropy\n",
    "from tensorflow.keras.optimizers import Adam\n",
    "from tensorflow.keras.callbacks import EarlyStopping\n",
    "from matplotlib import pyplot as plt\n",
    "from sklearn.metrics import classification_report\n",
    "import numpy as np"
   ]
  },
  {
   "cell_type": "code",
   "execution_count": 4,
   "metadata": {
    "colab": {
     "base_uri": "https://localhost:8080/"
    },
    "id": "cYC82xynK1ae",
    "outputId": "aa5bfa74-6602-4ae2-b6eb-206dfad4a854"
   },
   "outputs": [
    {
     "name": "stdout",
     "output_type": "stream",
     "text": [
      "Found 251 images belonging to 3 classes.\n",
      "\n",
      "Loading validation data...\n",
      "Found 66 images belonging to 3 classes.\n"
     ]
    }
   ],
   "source": [
    "#Constructing an ImageDataGenerator object:\n",
    "DIRECTORY_TRAIN = \"/content/drive/MyDrive/Covid19-dataset/train\"\n",
    "DIRECTORY_TEST = \"/content/drive/MyDrive/Covid19-dataset/test\"\n",
    "\n",
    "CLASS_MODE = \"categorical\"\n",
    "COLOR_MODE = \"grayscale\"\n",
    "TARGET_SIZE = (256,256)\n",
    "BATCH_SIZE = 32\n",
    "# For Data Generating as well as data Augmentation Because of small Dataset\n",
    "training_data_generator = ImageDataGenerator(rescale=1.0/255,\n",
    "\n",
    "#Randomly increase or decrease the size of the image by up to 10%\n",
    "zoom_range=0.1, \n",
    "\n",
    "#Randomly rotate the image between -25,25 degrees\n",
    "rotation_range=25, \n",
    "\n",
    "#Shift the image along its width by up to +/- 5%\n",
    "width_shift_range=0.05, \n",
    "\n",
    "#Shift the image along its height by up to +/- 5%\n",
    "height_shift_range=0.05,\n",
    "\n",
    ")\n",
    "\n",
    "validation_data_generator = ImageDataGenerator()\n",
    "\n",
    "training_iterator = training_data_generator.flow_from_directory(DIRECTORY_TRAIN,class_mode='categorical',color_mode='grayscale',batch_size=BATCH_SIZE)#, subset='training')\n",
    "\n",
    "training_iterator.next()\n",
    "\n",
    "print(\"\\nLoading validation data...\")\n",
    "\n",
    "\n",
    "validation_iterator = validation_data_generator.flow_from_directory(DIRECTORY_TEST,class_mode='categorical', color_mode='grayscale',batch_size=BATCH_SIZE)#, subset='validation')\n"
   ]
  },
  {
   "cell_type": "code",
   "execution_count": 5,
   "metadata": {
    "colab": {
     "base_uri": "https://localhost:8080/"
    },
    "id": "0b34HJZJOKU2",
    "outputId": "49ada15c-6e1a-4dcf-9ae9-a7e04f59b1d2"
   },
   "outputs": [
    {
     "name": "stdout",
     "output_type": "stream",
     "text": [
      "\n",
      "Building model...\n"
     ]
    }
   ],
   "source": [
    "print(\"\\nBuilding model...\")\n",
    "\n",
    "def design_model(training_data):\n",
    "    # sequential model\n",
    "    model = Sequential()\n",
    "    # add input layer with grayscale image shape\n",
    "    model.add(tf.keras.Input(shape=(256, 256, 1)))\n",
    "    # convolutional hidden layers with relu functions\n",
    "    # maxpooling layers and dropout layers as well\n",
    "    model.add(Conv2D(5, 3, strides=3, activation=\"relu\")) \n",
    "    model.add(MaxPooling2D(\n",
    "        pool_size=(2, 2), strides=(2,2)))\n",
    "    model.add(Dropout(0.1))\n",
    "    model.add(Conv2D(5, 3, strides=1, activation=\"relu\")) \n",
    "    model.add(MaxPooling2D(\n",
    "        pool_size=(2, 2), strides=(2,2)))\n",
    "    model.add(Dropout(0.2))\n",
    "    model.add(Conv2D(3, 3, strides=1, activation=\"relu\")) \n",
    "    model.add(MaxPooling2D(\n",
    "        pool_size=(2, 2), strides=(1,1)))\n",
    "    model.add(Dropout(0.1))\n",
    "    \n",
    "    # experimenting with extra layesr\n",
    "    #model.add(tf.keras.layers.Conv2D(3, 3, strides=1, activation=\"relu\"))\n",
    "    #model.add(tf.keras.layers.Conv2D(1, 1, strides=1, activation=\"relu\"))\n",
    "    #model.add(tf.keras.layers.Dropout(0.1))\n",
    "    model.add(Flatten())\n",
    "    # output layer with softmax activation function\n",
    "    model.add(Dense(3,activation=\"softmax\"))\n",
    "    # compile model with Adam optimizer\n",
    "    # loss function is categorical crossentropy\n",
    "    # metrics are categorical accuracy and AUC\n",
    "    print(\"\\nCompiling model...\")\n",
    "    model.compile(optimizer=Adam(learning_rate=.001), loss=CategoricalCrossentropy(), metrics=[CategoricalAccuracy(),AUC()],)\n",
    "    # summarize model\n",
    "    model.summary()\n",
    "    return model    "
   ]
  },
  {
   "cell_type": "code",
   "execution_count": 6,
   "metadata": {
    "colab": {
     "base_uri": "https://localhost:8080/"
    },
    "id": "-tqXB9PGONak",
    "outputId": "728647b1-66c8-4f94-92f6-c258b00d0ef7"
   },
   "outputs": [
    {
     "name": "stdout",
     "output_type": "stream",
     "text": [
      "\n",
      "Compiling model...\n",
      "Model: \"sequential\"\n",
      "_________________________________________________________________\n",
      " Layer (type)                Output Shape              Param #   \n",
      "=================================================================\n",
      " conv2d (Conv2D)             (None, 85, 85, 5)         50        \n",
      "                                                                 \n",
      " max_pooling2d (MaxPooling2D  (None, 42, 42, 5)        0         \n",
      " )                                                               \n",
      "                                                                 \n",
      " dropout (Dropout)           (None, 42, 42, 5)         0         \n",
      "                                                                 \n",
      " conv2d_1 (Conv2D)           (None, 40, 40, 5)         230       \n",
      "                                                                 \n",
      " max_pooling2d_1 (MaxPooling  (None, 20, 20, 5)        0         \n",
      " 2D)                                                             \n",
      "                                                                 \n",
      " dropout_1 (Dropout)         (None, 20, 20, 5)         0         \n",
      "                                                                 \n",
      " conv2d_2 (Conv2D)           (None, 18, 18, 3)         138       \n",
      "                                                                 \n",
      " max_pooling2d_2 (MaxPooling  (None, 17, 17, 3)        0         \n",
      " 2D)                                                             \n",
      "                                                                 \n",
      " dropout_2 (Dropout)         (None, 17, 17, 3)         0         \n",
      "                                                                 \n",
      " flatten (Flatten)           (None, 867)               0         \n",
      "                                                                 \n",
      " dense (Dense)               (None, 3)                 2604      \n",
      "                                                                 \n",
      "=================================================================\n",
      "Total params: 3,022\n",
      "Trainable params: 3,022\n",
      "Non-trainable params: 0\n",
      "_________________________________________________________________\n",
      "\n",
      "Training model...\n",
      "Epoch 1/5\n",
      "7/7 [==============================] - 104s 13s/step - loss: 1.0897 - categorical_accuracy: 0.4462 - auc: 0.5821 - val_loss: 31.0627 - val_categorical_accuracy: 0.4091 - val_auc: 0.5540\n",
      "Epoch 2/5\n",
      "7/7 [==============================] - 4s 481ms/step - loss: 1.0868 - categorical_accuracy: 0.3984 - auc: 0.5738 - val_loss: 29.7743 - val_categorical_accuracy: 0.3939 - val_auc: 0.5455\n",
      "Epoch 3/5\n",
      "7/7 [==============================] - 4s 467ms/step - loss: 1.0436 - categorical_accuracy: 0.4900 - auc: 0.6440 - val_loss: 34.3717 - val_categorical_accuracy: 0.3939 - val_auc: 0.5455\n",
      "Epoch 4/5\n",
      "7/7 [==============================] - 4s 493ms/step - loss: 1.0269 - categorical_accuracy: 0.5179 - auc: 0.6741 - val_loss: 18.3067 - val_categorical_accuracy: 0.4697 - val_auc: 0.6311\n",
      "Epoch 5/5\n",
      "7/7 [==============================] - 4s 452ms/step - loss: 0.9383 - categorical_accuracy: 0.6653 - auc: 0.8266 - val_loss: 21.4264 - val_categorical_accuracy: 0.5758 - val_auc: 0.7016\n"
     ]
    }
   ],
   "source": [
    "# use model function\n",
    "model = design_model(training_iterator)\n",
    "\n",
    "# early stopping implementation\n",
    "es = EarlyStopping(monitor='val_auc', mode='min', verbose=1, patience=20)\n",
    "\n",
    "print(\"\\nTraining model...\")\n",
    "# fit the model with 10 ephochs and early stopping\n",
    "history =model.fit(\n",
    "        training_iterator,\n",
    "        steps_per_epoch=training_iterator.samples/BATCH_SIZE, epochs=5,\n",
    "        validation_data=validation_iterator,\n",
    "        # validation_steps=validation_iterator.samples/BATCH_SIZE\n",
    "        callbacks=[es])"
   ]
  },
  {
   "cell_type": "code",
   "execution_count": 8,
   "metadata": {
    "colab": {
     "base_uri": "https://localhost:8080/",
     "height": 621
    },
    "id": "856aW7SRLnNx",
    "outputId": "652c45ca-5637-4e58-bd74-209027e0f277"
   },
   "outputs": [
    {
     "data": {
      "image/png": "[encoded data removed]",
      "text/plain": [
       "<Figure size 576x720 with 2 Axes>"
      ]
     },
     "metadata": {
      "needs_background": "light"
     },
     "output_type": "display_data"
    }
   ],
   "source": [
    "\n",
    "# plotting categorical and validation accuracy over epochs\n",
    "fig = plt.figure(figsize=(8,10))\n",
    "ax1 = fig.add_subplot(2, 1, 1)\n",
    "ax1.plot(history.history['categorical_accuracy'])\n",
    "ax1.plot(history.history['val_categorical_accuracy'])\n",
    "ax1.set_title('model accuracy')\n",
    "ax1.set_xlabel('epoch')\n",
    "ax1.set_ylabel('accuracy')\n",
    "ax1.legend(['train', 'validation'], loc='upper left')\n",
    "\n",
    "# plotting auc and validation auc over epochs\n",
    "ax2 = fig.add_subplot(2, 1, 2)\n",
    "ax2.plot(history.history['auc'])\n",
    "ax2.plot(history.history['val_auc'])\n",
    "ax2.set_title('model auc')\n",
    "ax2.set_xlabel('epoch')\n",
    "ax2.set_ylabel('auc')\n",
    "ax2.legend(['train', 'validation'], loc='upper left')\n",
    "\n",
    "plt.show()"
   ]
  },
  {
   "cell_type": "code",
   "execution_count": 9,
   "metadata": {
    "colab": {
     "base_uri": "https://localhost:8080/"
    },
    "id": "ItsN-anNdx5z",
    "outputId": "10a12131-abdb-4f5a-e4ed-1a1b7651d00a"
   },
   "outputs": [
    {
     "name": "stdout",
     "output_type": "stream",
     "text": [
      "              precision    recall  f1-score   support\n",
      "\n",
      "           0       0.36      0.73      0.48        26\n",
      "           1       0.33      0.10      0.15        20\n",
      "           2       0.14      0.05      0.07        20\n",
      "\n",
      "    accuracy                           0.33        66\n",
      "   macro avg       0.28      0.29      0.24        66\n",
      "weighted avg       0.29      0.33      0.26        66\n",
      "\n"
     ]
    }
   ],
   "source": [
    "# Finding the f1-score is helpful way to evaluate our model based on how badly it makes flase negative mistakes.\n",
    "predictions = model.predict(validation_iterator)\n",
    "prediction_classes = np.argmax(predictions, axis=1)\n",
    "true_classes = validation_iterator.classes\n",
    "report = classification_report(true_classes,prediction_classes)\n",
    "print(report)"
   ]
  },
  {
   "cell_type": "markdown",
   "metadata": {
    "id": "-sG1j92XWksJ"
   },
   "source": [
    "Ive figured that the sample size for this project is pretty small only 250 images.\n",
    "So, the accuracy seems low but for 3 classes accuracy of 33% is still good."
   ]
  }
 ],
 "metadata": {
  "colab": {
   "name": "Classification-challenge-Project.ipynb",
   "provenance": []
  },
  "kernelspec": {
   "display_name": "Python 3",
   "language": "python",
   "name": "python3"
  },
  "language_info": {
   "codemirror_mode": {
    "name": "ipython",
    "version": 3
   },
   "file_extension": ".py",
   "mimetype": "text/x-python",
   "name": "python",
   "nbconvert_exporter": "python",
   "pygments_lexer": "ipython3",
   "version": "3.8.8"
  }
 },
 "nbformat": 4,
 "nbformat_minor": 1
}
